{
  "nbformat": 4,
  "nbformat_minor": 0,
  "metadata": {
    "colab": {
      "provenance": []
    },
    "kernelspec": {
      "name": "python3",
      "display_name": "Python 3"
    },
    "language_info": {
      "name": "python"
    }
  },
  "cells": [
    {
      "cell_type": "markdown",
      "source": [
        "> **Reg No :** 23MCA1030\n",
        "\n",
        ">**Name :** Vinayak Kumar Singh"
      ],
      "metadata": {
        "id": "EYINwZ2hC0CR"
      }
    },
    {
      "cell_type": "code",
      "execution_count": null,
      "metadata": {
        "id": "pS7ANzDqe_5-",
        "colab": {
          "base_uri": "https://localhost:8080/"
        },
        "outputId": "45aac002-8a8f-477f-bc9e-733e6b39218b"
      },
      "outputs": [
        {
          "output_type": "stream",
          "name": "stdout",
          "text": [
            "Testing Gaussian Naive Bayes ...\n",
            "Accuracy: 0.4637\n",
            "Precision: 0.5303\n",
            "Recall: 0.4640\n",
            "F1-Score: 0.4576\n",
            "Latency: 0.0555 seconds\n",
            "\n",
            "Testing K-Nearest Neighbors ...\n",
            "Accuracy: 0.9520\n",
            "Precision: 0.9520\n",
            "Recall: 0.9520\n",
            "F1-Score: 0.9517\n",
            "Latency: 0.0256 seconds\n",
            "\n",
            "Testing Logistic Regression ...\n",
            "Accuracy: 0.8697\n",
            "Precision: 0.8723\n",
            "Recall: 0.8697\n",
            "F1-Score: 0.8689\n",
            "Latency: 7.4576 seconds\n",
            "\n",
            "Testing Decision Tree ...\n",
            "Accuracy: 0.8973\n",
            "Precision: 0.8973\n",
            "Recall: 0.8971\n",
            "F1-Score: 0.8967\n",
            "Latency: 2.3362 seconds\n",
            "\n",
            "Testing Support Vector Machine ...\n",
            "Accuracy: 0.9488\n",
            "Precision: 0.9501\n",
            "Recall: 0.9488\n",
            "F1-Score: 0.9489\n",
            "Latency: 7.2011 seconds\n",
            "\n"
          ]
        },
        {
          "output_type": "execute_result",
          "data": {
            "text/plain": [
              "['model.joblib']"
            ]
          },
          "metadata": {},
          "execution_count": 6
        }
      ],
      "source": [
        "import numpy as np\n",
        "import pandas as pd\n",
        "from sklearn.model_selection import cross_validate, KFold\n",
        "from sklearn.preprocessing import Normalizer\n",
        "from sklearn.naive_bayes import GaussianNB\n",
        "from sklearn.neighbors import KNeighborsClassifier\n",
        "from sklearn.linear_model import LogisticRegression\n",
        "from sklearn.tree import DecisionTreeClassifier\n",
        "from sklearn.svm import SVC\n",
        "from sklearn.metrics import accuracy_score, precision_score, recall_score, f1_score, confusion_matrix\n",
        "from joblib import dump, load\n",
        "import time\n",
        "\n",
        "## Define datset path\n",
        "datasetPath = \"/content/hand_dataset_1000_24.csv\"\n",
        "\n",
        "## Read dataset using pandas\n",
        "dataset = pd.read_csv(datasetPath)\n",
        "\n",
        "## Split dataset into X and y\n",
        "## @param X: the landmark coodinates data\n",
        "## @param y: the corresponding letter\n",
        "X = dataset.drop('class', axis = 1)\n",
        "y = dataset['class']\n",
        "\n",
        "## Create normalizer and normalize coordinate data\n",
        "normalizer = Normalizer().fit(X)\n",
        "X = normalizer.transform(X)\n",
        "\n",
        "## Code used to test various models accuracy score on data\n",
        "cross_Validate = KFold(n_splits = 10, random_state=7, shuffle = True)\n",
        "\n",
        "def test_model(modelName, model):\n",
        "    print(f'Testing {modelName} ...')\n",
        "    scoring = ['accuracy', 'precision_macro', 'recall_macro', 'f1_macro']\n",
        "    scores = cross_validate(model, X, y, scoring=scoring, cv=cross_Validate, n_jobs=-1)\n",
        "\n",
        "    accuracy = np.mean(scores['test_accuracy'])\n",
        "    precision = np.mean(scores['test_precision_macro'])\n",
        "    recall = np.mean(scores['test_recall_macro'])\n",
        "    f1 = np.mean(scores['test_f1_macro'])\n",
        "\n",
        "    print(f\"Accuracy: {accuracy:.4f}\")\n",
        "    print(f\"Precision: {precision:.4f}\")\n",
        "    print(f\"Recall: {recall:.4f}\")\n",
        "    print(f\"F1-Score: {f1:.4f}\")\n",
        "\n",
        "    # y_pred = cross_validate(model, X, y, cv=cross_Validate, return_estimator=True)['estimator'][0].predict(X)\n",
        "    # cm = confusion_matrix(y, y_pred)\n",
        "    # print(\"Confusion Matrix:\")\n",
        "    # print(cm)\n",
        "\n",
        "    # Calculate and print latency\n",
        "    start_time = time.time()\n",
        "    model.fit(X, y)\n",
        "    end_time = time.time()\n",
        "    latency = end_time - start_time\n",
        "    print(f\"Latency: {latency:.4f} seconds\")\n",
        "    print()\n",
        "\n",
        "test_model(\"Gaussian Naive Bayes\", GaussianNB())\n",
        "test_model(\"K-Nearest Neighbors\", KNeighborsClassifier())\n",
        "test_model(\"Logistic Regression\", LogisticRegression(max_iter=1000))\n",
        "test_model(\"Decision Tree\", DecisionTreeClassifier())\n",
        "test_model(\"Support Vector Machine\", SVC())\n",
        "\n",
        "## Classifier chosen in KNeighbors\n",
        "classifier = KNeighborsClassifier()\n",
        "\n",
        "## Train our classifier using dataset\n",
        "classifier.fit(X, y)\n",
        "\n",
        "## Dump classifier to be used in handDetection.py\n",
        "dump(classifier, \"model.joblib\")"
      ]
    }
  ]
}